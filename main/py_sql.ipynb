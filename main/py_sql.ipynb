{
 "cells": [
  {
   "cell_type": "code",
   "execution_count": 1,
   "metadata": {},
   "outputs": [],
   "source": [
    "# pip install SQLAlchemy==1.4.46\n",
    "from pandasql import sqldf, load_meat, load_births"
   ]
  },
  {
   "cell_type": "code",
   "execution_count": 2,
   "metadata": {},
   "outputs": [],
   "source": [
    "pysqldf = lambda q: sqldf(q, globals())"
   ]
  },
  {
   "cell_type": "code",
   "execution_count": 3,
   "metadata": {},
   "outputs": [],
   "source": [
    "meat = load_meat()"
   ]
  },
  {
   "cell_type": "code",
   "execution_count": 4,
   "metadata": {},
   "outputs": [
    {
     "name": "stdout",
     "output_type": "stream",
     "text": [
      "                         date   beef   veal    pork  lamb_and_mutton broilers  \\\n",
      "0  1944-01-01 00:00:00.000000  751.0   85.0  1280.0             89.0     None   \n",
      "1  1944-02-01 00:00:00.000000  713.0   77.0  1169.0             72.0     None   \n",
      "2  1944-03-01 00:00:00.000000  741.0   90.0  1128.0             75.0     None   \n",
      "3  1944-04-01 00:00:00.000000  650.0   89.0   978.0             66.0     None   \n",
      "4  1944-05-01 00:00:00.000000  681.0  106.0  1029.0             78.0     None   \n",
      "\n",
      "  other_chicken turkey  \n",
      "0          None   None  \n",
      "1          None   None  \n",
      "2          None   None  \n",
      "3          None   None  \n",
      "4          None   None  \n"
     ]
    }
   ],
   "source": [
    "print(pysqldf(\"SELECT * FROM meat LIMIT 10\").head())"
   ]
  }
 ],
 "metadata": {
  "kernelspec": {
   "display_name": "Python 3",
   "language": "python",
   "name": "python3"
  },
  "language_info": {
   "codemirror_mode": {
    "name": "ipython",
    "version": 3
   },
   "file_extension": ".py",
   "mimetype": "text/x-python",
   "name": "python",
   "nbconvert_exporter": "python",
   "pygments_lexer": "ipython3",
   "version": "3.10.9"
  },
  "orig_nbformat": 4
 },
 "nbformat": 4,
 "nbformat_minor": 2
}
